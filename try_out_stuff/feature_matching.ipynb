{
 "cells": [
  {
   "cell_type": "code",
   "execution_count": 1,
   "id": "3b3d4765",
   "metadata": {},
   "outputs": [],
   "source": [
    "import cv2\n",
    "import glob"
   ]
  },
  {
   "cell_type": "code",
   "execution_count": 2,
   "id": "4b8a1c1c",
   "metadata": {},
   "outputs": [],
   "source": [
    "#display the image\n",
    "def display_img(img):\n",
    "    #resize the image\n",
    "    img = cv2.resize(img,(1200,1000))\n",
    "    cv2.imshow('img',img)\n",
    "    cv2.waitKey(0)\n",
    "    cv2.destroyAllWindows()\n",
    "    \n",
    "#convert image to grayscales image\n",
    "def grayscale_cvt(img):\n",
    "    return cv2.cvtColor(img,cv2.COLOR_BGR2GRAY)"
   ]
  },
  {
   "cell_type": "code",
   "execution_count": 3,
   "id": "29ef39c3",
   "metadata": {},
   "outputs": [],
   "source": [
    "image_paths = glob.glob('../panoramic_images/*.jpg')"
   ]
  },
  {
   "cell_type": "code",
   "execution_count": 4,
   "id": "02b3cd69",
   "metadata": {},
   "outputs": [],
   "source": [
    "image_list = [cv2.imread(i,cv2.IMREAD_GRAYSCALE) for i in image_paths ]"
   ]
  },
  {
   "cell_type": "code",
   "execution_count": 5,
   "id": "0410a632",
   "metadata": {},
   "outputs": [],
   "source": [
    "#lets calculate SIFT features for each image and store them in a dict along with image\n",
    "image_features = {}\n",
    "sift = cv2.SIFT_create()\n",
    "for (i,image) in enumerate(image_list):\n",
    "    keypoints,descriptors = sift.detectAndCompute(image,None)\n",
    "    image_features['frame'+str(i)] = [image,keypoints,descriptors]\n",
    "    \n",
    "    "
   ]
  },
  {
   "cell_type": "code",
   "execution_count": 6,
   "id": "969f4e6a",
   "metadata": {},
   "outputs": [
    {
     "data": {
      "text/plain": [
       "['frame0',\n",
       " 'frame1',\n",
       " 'frame2',\n",
       " 'frame3',\n",
       " 'frame4',\n",
       " 'frame5',\n",
       " 'frame6',\n",
       " 'frame7',\n",
       " 'frame8',\n",
       " 'frame9',\n",
       " 'frame10',\n",
       " 'frame11']"
      ]
     },
     "execution_count": 6,
     "metadata": {},
     "output_type": "execute_result"
    }
   ],
   "source": [
    "list(image_features.keys())"
   ]
  },
  {
   "cell_type": "code",
   "execution_count": null,
   "id": "04f7fdfb",
   "metadata": {},
   "outputs": [],
   "source": []
  }
 ],
 "metadata": {
  "kernelspec": {
   "display_name": "Python 3",
   "language": "python",
   "name": "python3"
  },
  "language_info": {
   "codemirror_mode": {
    "name": "ipython",
    "version": 3
   },
   "file_extension": ".py",
   "mimetype": "text/x-python",
   "name": "python",
   "nbconvert_exporter": "python",
   "pygments_lexer": "ipython3",
   "version": "3.8.8"
  }
 },
 "nbformat": 4,
 "nbformat_minor": 5
}
