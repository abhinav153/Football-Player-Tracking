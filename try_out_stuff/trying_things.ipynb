{
 "cells": [
  {
   "cell_type": "code",
   "execution_count": 1,
   "id": "228504b9",
   "metadata": {},
   "outputs": [],
   "source": [
    "import cv2\n",
    "import matplotlib.pyplot as plt"
   ]
  },
  {
   "cell_type": "markdown",
   "id": "b8e5b789",
   "metadata": {},
   "source": [
    "# Guassian Blur"
   ]
  },
  {
   "cell_type": "code",
   "execution_count": 6,
   "id": "12c2e0dc",
   "metadata": {},
   "outputs": [],
   "source": [
    "#load the image\n",
    "img = cv2.imread('images/img1.jfif')\n",
    "\n"
   ]
  },
  {
   "cell_type": "code",
   "execution_count": 10,
   "id": "e1025ac7",
   "metadata": {},
   "outputs": [],
   "source": [
    "#display the image\n",
    "def display_img(img):\n",
    "    #resize the image\n",
    "    img = cv2.resize(img,(800,800))\n",
    "    cv2.imshow('img',img)\n",
    "    cv2.waitKey(0)\n",
    "    cv2.destroyAllWindows()"
   ]
  },
  {
   "cell_type": "code",
   "execution_count": 15,
   "id": "4f076ac7",
   "metadata": {},
   "outputs": [],
   "source": [
    "#lets apply the guassin blur now \n",
    "kernel_size = (3,3)\n",
    "scale = 50\n",
    "for scale in range(10,1000,100):\n",
    "    blurred_image = cv2.GaussianBlur(img,kernel_size,scale)\n",
    "    display_img(blurred_image)"
   ]
  },
  {
   "cell_type": "markdown",
   "id": "6dc757e4",
   "metadata": {},
   "source": [
    "\n",
    "# SIFT algorithm"
   ]
  },
  {
   "cell_type": "code",
   "execution_count": null,
   "id": "16c6d45d",
   "metadata": {},
   "outputs": [],
   "source": []
  }
 ],
 "metadata": {
  "kernelspec": {
   "display_name": "Python 3",
   "language": "python",
   "name": "python3"
  },
  "language_info": {
   "codemirror_mode": {
    "name": "ipython",
    "version": 3
   },
   "file_extension": ".py",
   "mimetype": "text/x-python",
   "name": "python",
   "nbconvert_exporter": "python",
   "pygments_lexer": "ipython3",
   "version": "3.8.8"
  }
 },
 "nbformat": 4,
 "nbformat_minor": 5
}
