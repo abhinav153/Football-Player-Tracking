{
 "cells": [
  {
   "cell_type": "code",
   "execution_count": 1,
   "id": "228504b9",
   "metadata": {},
   "outputs": [],
   "source": [
    "import cv2\n",
    "import matplotlib.pyplot as plt\n",
    "import glob"
   ]
  },
  {
   "cell_type": "code",
   "execution_count": 2,
   "id": "e1025ac7",
   "metadata": {},
   "outputs": [],
   "source": [
    "#display the image\n",
    "def display_img(img):\n",
    "    #resize the image\n",
    "    img = cv2.resize(img,(1200,1000))\n",
    "    cv2.imshow('img',img)\n",
    "    cv2.waitKey(0)\n",
    "    cv2.destroyAllWindows()\n",
    "    \n",
    "#convert image to grayscales image\n",
    "def grayscale_cvt(img):\n",
    "    return cv2.cvtColor(img,cv2.COLOR_BGR2GRAY)"
   ]
  },
  {
   "cell_type": "markdown",
   "id": "6dc757e4",
   "metadata": {},
   "source": [
    "\n",
    "# SIFT algorithm"
   ]
  },
  {
   "cell_type": "code",
   "execution_count": 3,
   "id": "16c6d45d",
   "metadata": {},
   "outputs": [],
   "source": [
    "current_buffer = glob.glob('../panoramic_images/current_buffer/*.jpeg')\n"
   ]
  },
  {
   "cell_type": "markdown",
   "id": "2e9450d9",
   "metadata": {},
   "source": [
    "### lets run the SIFT algorithm for all the images in our current buffer and store contents in dictionary"
   ]
  },
  {
   "cell_type": "code",
   "execution_count": 4,
   "id": "e517a8e8",
   "metadata": {},
   "outputs": [],
   "source": [
    "feature_dict = {}\n",
    "for filepath in current_buffer:\n",
    "    img = cv2.imread(filepath)\n",
    "    gray = grayscale_cvt(img)\n",
    "    sift = cv2.SIFT_create()\n",
    "    keypoints = sift.detect(gray,None)\n",
    "    kp_img = cv2.drawKeypoints(gray,keypoints,img)\n",
    "    name = filepath.split('\\\\')[-1].split('.')[0]\n",
    "    feature_dict[name] = keypoints\n",
    "    \n",
    "    "
   ]
  },
  {
   "cell_type": "markdown",
   "id": "ea0ed215",
   "metadata": {},
   "source": [
    "## Feature matching"
   ]
  },
  {
   "cell_type": "code",
   "execution_count": 5,
   "id": "a7b5a186",
   "metadata": {},
   "outputs": [],
   "source": [
    "images = glob.glob('../panoramic_images/*.jpg')"
   ]
  },
  {
   "cell_type": "code",
   "execution_count": 6,
   "id": "595edf98",
   "metadata": {},
   "outputs": [],
   "source": [
    "f_dict = {}\n",
    "for path in images:\n",
    "    img = cv2.imread(path)\n",
    "    gray = grayscale_cvt(img)\n",
    "    sift = cv2.SIFT_create()\n",
    "    kp,desc = sift.detectAndCompute(gray,None)\n",
    "    name = path.split('\\\\')[-1].split('.')[0]\n",
    "    f_dict[name] = [img,kp,desc]"
   ]
  },
  {
   "cell_type": "code",
   "execution_count": 7,
   "id": "43c49715",
   "metadata": {},
   "outputs": [],
   "source": [
    "img1 = f_dict['frame1']\n",
    "img2 = f_dict['frame2']"
   ]
  },
  {
   "cell_type": "code",
   "execution_count": 8,
   "id": "f3f441d4",
   "metadata": {},
   "outputs": [],
   "source": [
    "#brute force matchers (k nearest neighbours)\n",
    "\n",
    "bf = cv2.BFMatcher()\n",
    "\n",
    "matches = bf.knnMatch(img1[2],img2[2],k=2)\n",
    "\n",
    "#print(matches)\n",
    "\n",
    "# Apply ratio test\n",
    "good = []\n",
    "for m,n in matches:\n",
    "    if m.distance < 0.75*n.distance:\n",
    "        good.append([m])\n",
    "        \n",
    "# cv.drawMatchesKnn expects list of lists as matches.\n",
    "#img3 = cv2.drawMatchesKnn(img1[0],img1[1],img2[0],img2[1],good,None,flags=cv2.DrawMatchesFlags_NOT_DRAW_SINGLE_POINTS)\n",
    "#display_img(img3)"
   ]
  },
  {
   "cell_type": "code",
   "execution_count": 9,
   "id": "a25808ab",
   "metadata": {},
   "outputs": [],
   "source": [
    "#FLANN matcher\n",
    "# FLANN parameters\n",
    "FLANN_INDEX_KDTREE = 1\n",
    "index_params = dict(algorithm = FLANN_INDEX_KDTREE, trees = 5)\n",
    "search_params = dict(checks=50)   # or pass empty dictionary\n",
    "\n",
    "flann = cv2.FlannBasedMatcher(index_params,search_params)\n",
    "matches = flann.knnMatch(img1[2],img2[2],k=2)\n",
    "\n",
    "# Need to draw only good matches, so create a mask\n",
    "matchesMask = [[0,0] for i in range(len(matches))]\n",
    "# ratio test as per Lowe's paper\n",
    "for i,(m,n) in enumerate(matches):\n",
    "    if m.distance < 0.7*n.distance:\n",
    "        matchesMask[i]=[1,0]\n",
    "draw_params = dict(matchColor = (0,255,0),\n",
    "                   singlePointColor = (255,0,0),\n",
    "                   matchesMask = matchesMask,\n",
    "                   flags = cv2.DrawMatchesFlags_DEFAULT)\n",
    "img4= cv2.drawMatchesKnn(img1[0],img1[1],img2[0],img2[1],matches,None,**draw_params)\n",
    "\n",
    "#display_img(img4)\n"
   ]
  },
  {
   "cell_type": "markdown",
   "id": "b58bb8a1",
   "metadata": {},
   "source": [
    "## Panorama generator inbuilt opencv"
   ]
  },
  {
   "cell_type": "code",
   "execution_count": 14,
   "id": "7ce4cf60",
   "metadata": {},
   "outputs": [],
   "source": [
    "image_list = [cv2.imread(path,cv2.IMREAD_GRAYSCALE) for path in images]"
   ]
  },
  {
   "cell_type": "code",
   "execution_count": 16,
   "id": "84c41c1f",
   "metadata": {},
   "outputs": [
    {
     "ename": "error",
     "evalue": "OpenCV(4.5.3) C:\\Users\\runneradmin\\AppData\\Local\\Temp\\pip-req-build-u4kjpz2z\\opencv\\modules\\stitching\\src\\exposure_compensate.cpp:564: error: (-215:Assertion failed) _image.type() == CV_8UC3 in function 'cv::detail::BlocksCompensator::apply'\n",
     "output_type": "error",
     "traceback": [
      "\u001b[1;31m---------------------------------------------------------------------------\u001b[0m",
      "\u001b[1;31merror\u001b[0m                                     Traceback (most recent call last)",
      "\u001b[1;32m<ipython-input-16-79e667da6757>\u001b[0m in \u001b[0;36m<module>\u001b[1;34m\u001b[0m\n\u001b[0;32m      2\u001b[0m \u001b[0mstitcher\u001b[0m \u001b[1;33m=\u001b[0m \u001b[0mcv2\u001b[0m\u001b[1;33m.\u001b[0m\u001b[0mStitcher_create\u001b[0m\u001b[1;33m(\u001b[0m\u001b[1;33m)\u001b[0m\u001b[1;33m\u001b[0m\u001b[1;33m\u001b[0m\u001b[0m\n\u001b[0;32m      3\u001b[0m \u001b[1;33m\u001b[0m\u001b[0m\n\u001b[1;32m----> 4\u001b[1;33m \u001b[1;33m(\u001b[0m\u001b[0mstatus\u001b[0m\u001b[1;33m,\u001b[0m\u001b[0mstiched\u001b[0m\u001b[1;33m)\u001b[0m \u001b[1;33m=\u001b[0m \u001b[0mstitcher\u001b[0m\u001b[1;33m.\u001b[0m\u001b[0mstitch\u001b[0m\u001b[1;33m(\u001b[0m\u001b[0mimage_list\u001b[0m\u001b[1;33m)\u001b[0m\u001b[1;33m\u001b[0m\u001b[1;33m\u001b[0m\u001b[0m\n\u001b[0m\u001b[0;32m      5\u001b[0m \u001b[1;32mif\u001b[0m \u001b[0mstatus\u001b[0m \u001b[1;33m==\u001b[0m \u001b[1;36m0\u001b[0m\u001b[1;33m:\u001b[0m\u001b[1;33m\u001b[0m\u001b[1;33m\u001b[0m\u001b[0m\n\u001b[0;32m      6\u001b[0m     \u001b[0mprint\u001b[0m\u001b[1;33m(\u001b[0m\u001b[1;34m'stitch successful'\u001b[0m\u001b[1;33m)\u001b[0m\u001b[1;33m\u001b[0m\u001b[1;33m\u001b[0m\u001b[0m\n",
      "\u001b[1;31merror\u001b[0m: OpenCV(4.5.3) C:\\Users\\runneradmin\\AppData\\Local\\Temp\\pip-req-build-u4kjpz2z\\opencv\\modules\\stitching\\src\\exposure_compensate.cpp:564: error: (-215:Assertion failed) _image.type() == CV_8UC3 in function 'cv::detail::BlocksCompensator::apply'\n"
     ]
    }
   ],
   "source": [
    "#doesen't work in large inputs, takes forever to complete\n",
    "stitcher = cv2.Stitcher_create()\n",
    "\n",
    "(status,stiched) = stitcher.stitch(image_list)\n",
    "if status == 0:\n",
    "    print('stitch successful')\n",
    "else:\n",
    "    print(\"[INFO] image stitching failed ({})\".format(status))\n"
   ]
  },
  {
   "cell_type": "code",
   "execution_count": null,
   "id": "e63e032b",
   "metadata": {},
   "outputs": [],
   "source": []
  },
  {
   "cell_type": "code",
   "execution_count": null,
   "id": "2903d8c0",
   "metadata": {},
   "outputs": [],
   "source": []
  }
 ],
 "metadata": {
  "kernelspec": {
   "display_name": "Python 3",
   "language": "python",
   "name": "python3"
  },
  "language_info": {
   "codemirror_mode": {
    "name": "ipython",
    "version": 3
   },
   "file_extension": ".py",
   "mimetype": "text/x-python",
   "name": "python",
   "nbconvert_exporter": "python",
   "pygments_lexer": "ipython3",
   "version": "3.8.8"
  }
 },
 "nbformat": 4,
 "nbformat_minor": 5
}
